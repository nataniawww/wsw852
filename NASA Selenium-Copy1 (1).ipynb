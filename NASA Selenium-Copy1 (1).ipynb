{
 "cells": [
  {
   "cell_type": "code",
   "execution_count": 1,
   "id": "a283ff23",
   "metadata": {},
   "outputs": [],
   "source": [
    "from datascience import * \n",
    "import numpy as np\n",
    "import pandas as pd\n",
    "from tabulate import tabulate"
   ]
  },
  {
   "cell_type": "code",
   "execution_count": 2,
   "id": "67ad8328",
   "metadata": {},
   "outputs": [],
   "source": [
    "from selenium import webdriver\n",
    "\n",
    "from selenium.webdriver.chrome.service import Service\n",
    "\n",
    "from selenium.webdriver.support.ui import WebDriverWait\n",
    "\n",
    "from selenium.webdriver.support import expected_conditions as EC\n",
    "\n",
    "from bs4 import BeautifulSoup as bs\n",
    "\n",
    "import codecs\n",
    "\n",
    "import re\n",
    "\n",
    "import requests\n",
    "from requests.adapters import HTTPAdapter\n",
    "from urllib3.util.retry import Retry\n",
    "\n",
    "from webdriver_manager.chrome import ChromeDriverManager"
   ]
  },
  {
   "cell_type": "code",
   "execution_count": null,
   "id": "52cc318e",
   "metadata": {},
   "outputs": [
    {
     "name": "stderr",
     "output_type": "stream",
     "text": [
      "[WDM] - Downloading: 100%|█████████████████| 8.82M/8.82M [00:03<00:00, 2.39MB/s]\n"
     ]
    }
   ],
   "source": [
    "driver=webdriver.Chrome(service=Service(ChromeDriverManager().install()))"
   ]
  },
  {
   "cell_type": "code",
   "execution_count": null,
   "id": "e8194f26",
   "metadata": {},
   "outputs": [],
   "source": [
    "val = input(\"Enter a url: \")\n",
    "\n",
    "wait = WebDriverWait(driver, 10)\n",
    "\n",
    "driver.get(val)\n",
    "\n",
    "\n",
    "get_url = driver.current_url\n",
    "wait.until(EC.url_to_be(val))\n",
    "\n",
    "\n",
    "if get_url == val:\n",
    "\n",
    "\n",
    "    page_source = driver.page_source"
   ]
  },
  {
   "cell_type": "code",
   "execution_count": null,
   "id": "5de956d2",
   "metadata": {},
   "outputs": [],
   "source": [
    "soup = BeautifulSoup(page_source,features= \"html.parser\")\n",
    "keyword=input(\"Enter a keyword to find instances of in the article:\")\n",
    "matches = soup.body.find_all(string=re.compile(keyword))\n",
    "\n",
    "len_match = len(matches)\n",
    "\n",
    "title = soup.title.text"
   ]
  },
  {
   "cell_type": "code",
   "execution_count": null,
   "id": "212dddc6",
   "metadata": {},
   "outputs": [],
   "source": [
    "\n",
    "file=codecs.open('article_scraping.txt', 'a+')\n",
    "\n",
    "file.write(title+\"\\n\")\n",
    "\n",
    "file.write('The following are all instances of your keyword:\\n')\n",
    "\n",
    "count=1\n",
    "\n",
    "for i in matches:\n",
    "\n",
    "    file.write(str(count) + '.' +  i  + '\\n')\n",
    "\n",
    "    count+=1\n",
    "\n",
    "file.write('There were '+str(len_match)+' matches found for the keyword.')\n",
    "\n",
    "file.close()\n",
    "\n",
    "driver.quit()"
   ]
  },
  {
   "cell_type": "code",
   "execution_count": null,
   "id": "6fa99d09",
   "metadata": {},
   "outputs": [],
   "source": [
    "##find all elements/ tags\n",
    "\n",
    "## print([tag.name for tag in soup.find_all()])\n",
    "\n",
    "## print([tag.text for tag in soup.find_all()])"
   ]
  },
  {
   "cell_type": "code",
   "execution_count": null,
   "id": "4459a4db",
   "metadata": {},
   "outputs": [],
   "source": [
    "arcc = soup.find_all(\"app-record-item\", class_=\"ng-star-inserted\")"
   ]
  },
  {
   "cell_type": "code",
   "execution_count": null,
   "id": "9ce96e77",
   "metadata": {},
   "outputs": [],
   "source": [
    "##important!\n",
    "\n",
    "## for loop: arcc\n",
    "\n",
    "for project in arcc:\n",
    "    title = project.find(\"mat-card-title\", class_=\"mat-card-title\").text.replace(\"(\", \"\").replace(\")\", \"\")\n",
    "    subtitle = project.find(\"mat-card-subtitle\", class_=\"mat-card-subtitle line-clamp\").text.replace(\"(\", \"\").replace(\")\", \"\")\n",
    "    doc_id = project.find(\"div\", class_=\"detail-row ng-star-inserted\").text.replace(\"(\", \"\").replace(\")\", \"\")\n",
    "    doc_type = project.find(\"div\", class_=\"detail-row\").text.replace(\"(\", \"\").replace(\")\", \"\")\n",
    "    content = project.find(\"mat-card-content\", class_=\"mat-card-content details-container\").text.replace(\"(\", \"\").replace(\")\", \"\")\n",
    "    author_ins = project.find(\"div\", class_=\"mat-chip-list-wrapper\").text.replace(\"(\", \"\").replace(\")\", \"\")\n",
    "    all_ins = soup.find(\"em\", class_=\"ng-star-inserted\").text.replace(\"(\", \"\").replace(\")\", \"\")\n",
    "    \n",
    "    \n",
    "    print (f'''\n",
    "    Title: {title}\n",
    "    Institution: {all_ins}\n",
    "    Subtitle/ Abstract: {subtitle}\n",
    "    Content: {content}\n",
    "    {doc_id}\n",
    "    {author_ins}\n",
    "    ''')"
   ]
  },
  {
   "cell_type": "code",
   "execution_count": null,
   "id": "d56d1798",
   "metadata": {},
   "outputs": [],
   "source": [
    "##all author\n",
    "\n",
    "all_author = [project.get_text() for panda in soup('div', {'class': 'detail-row ng-star-inserted'})\n",
    "     for project in panda('mat-chip', {'class': 'mat-chip mat-focus-indicator mat-primary mat-standard-chip'})]\n",
    "\n",
    "new_aa = list(filter(lambda x : x != 'Et al', all_author))\n",
    "len(new_aa)"
   ]
  },
  {
   "cell_type": "code",
   "execution_count": null,
   "id": "90888c62",
   "metadata": {},
   "outputs": [],
   "source": [
    "##all institution\n",
    "\n",
    "all_institution = [project.get_text() for panda in soup('div', {'class': 'detail-row ng-star-inserted'})\n",
    "                   for project in panda('em', {'class': 'ng-star-inserted'})]\n",
    "len(all_institution)"
   ]
  },
  {
   "cell_type": "code",
   "execution_count": null,
   "id": "60b30abc",
   "metadata": {},
   "outputs": [],
   "source": [
    "## because of mismatch of length -> put author and institution together\n",
    "\n",
    "author_ins = [project.get_text() for panda in soup('div', {'class': 'data line-clamp'})\n",
    "                   for project in panda('mat-chip-list', {'class': 'mat-chip-list ng-star-inserted'})]\n",
    "len(author_ins)"
   ]
  },
  {
   "cell_type": "code",
   "execution_count": null,
   "id": "d1f04d24",
   "metadata": {},
   "outputs": [],
   "source": [
    "##all author and corresponding institution in one col (et al omitted)\n",
    "\n",
    "Table().with_columns(\"Author (institution)\",\n",
    "                     author_ins).where(\"Author (institution)\", are.not_containing(\"Et al\"))"
   ]
  },
  {
   "cell_type": "code",
   "execution_count": null,
   "id": "31b2def2",
   "metadata": {},
   "outputs": [],
   "source": [
    "##all author in one col (et al omitted)\n",
    "\n",
    "Table().with_columns(\"Author\", all_author).where(\"Author\", are.not_containing(\"Et al\"))"
   ]
  },
  {
   "cell_type": "code",
   "execution_count": null,
   "id": "3f6a9395",
   "metadata": {},
   "outputs": [],
   "source": [
    "##all institution in one col (et al omitted)\n",
    "\n",
    "Table().with_columns(\"Insitution\", all_institution)"
   ]
  },
  {
   "cell_type": "code",
   "execution_count": null,
   "id": "2d3dc123",
   "metadata": {},
   "outputs": [],
   "source": [
    "## divider"
   ]
  },
  {
   "cell_type": "code",
   "execution_count": null,
   "id": "0303b520",
   "metadata": {},
   "outputs": [],
   "source": [
    "## for loop for first 5 pages (25 items on each): testing purpose\n",
    "\n",
    "page = 0\n",
    "while page != 500:\n",
    "      url = f\"https://ntrs.nasa.gov/search?q=arctic&page=%7B%22size%22:25,%22from%22:{page}%7D\"\n",
    "      print(url)\n",
    "      page = page + 100"
   ]
  },
  {
   "cell_type": "code",
   "execution_count": null,
   "id": "32fbbd0b",
   "metadata": {},
   "outputs": [],
   "source": [
    "## for loop for first 52 pages (25 items on each): testing purpose\n",
    "\n",
    "##page = 0\n",
    "##proj = []\n",
    "##while page != 200:\n",
    "    #url = f\"https://ntrs.nasa.gov/search?q=arctic&page=%7B%22size%22:25,%22from%22:{page}%7D\"\n",
    "    #response = requests.get(url)\n",
    "    #html = response.content\n",
    "    #soup = bs(html, \"lxml\")\n",
    "    #arcc = soup.find_all(\"app-record-item\", class_=\"ng-star-inserted\")\n",
    "    #for project in arcc:\n",
    "        #title = project.find(\"mat-card-title\", class_=\"mat-card-title\").text.replace(\"(\", \"\").replace(\")\", \"\")\n",
    "        #proj.append(title)\n",
    "        #page = page + 100"
   ]
  }
 ],
 "metadata": {
  "kernelspec": {
   "display_name": "Python 3 (ipykernel)",
   "language": "python",
   "name": "python3"
  },
  "language_info": {
   "codemirror_mode": {
    "name": "ipython",
    "version": 3
   },
   "file_extension": ".py",
   "mimetype": "text/x-python",
   "name": "python",
   "nbconvert_exporter": "python",
   "pygments_lexer": "ipython3",
   "version": "3.9.13"
  }
 },
 "nbformat": 4,
 "nbformat_minor": 5
}
